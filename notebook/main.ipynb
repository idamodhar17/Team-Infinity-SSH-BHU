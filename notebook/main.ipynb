{
 "cells": [
  {
   "cell_type": "code",
   "execution_count": 1,
   "metadata": {},
   "outputs": [],
   "source": [
    "# Importing Libraries\n",
    "import pandas as pd \n",
    "import numpy as np \n",
    "import nltk\n",
    "import spacy\n",
    "from nltk.corpus import stopwords\n",
    "from nltk.stem import WordNetLemmatizer\n",
    "import re\n",
    "import seaborn as sns\n",
    "import matplotlib.pyplot as plt"
   ]
  },
  {
   "cell_type": "code",
   "execution_count": 2,
   "metadata": {},
   "outputs": [
    {
     "name": "stdout",
     "output_type": "stream",
     "text": [
      "   Unnamed: 0                                              title  \\\n",
      "0        8104  Conservatives Will HATE What Donald Trump Just...   \n",
      "1        7467  Trump victory may create new tension between U...   \n",
      "2        9473  WATCH: Hundreds of ILLEGAL ALIENS Storm Senate...   \n",
      "3         276  Democratic Senator Franken to resign: CNN, cit...   \n",
      "4       19274  GANG OF DOMESTIC TERRORISTS Violently Attack L...   \n",
      "\n",
      "                                                text       subject  \\\n",
      "0  Donald Trump isn t exactly a stranger to makin...          News   \n",
      "1  Donald Trump’s U.S. election victory may creat...  politicsNews   \n",
      "2  A couple of quick questions come to mind when ...      politics   \n",
      "3  U.S. Democratic Senator Al Franken will announ...  politicsNews   \n",
      "4  ***WARNING*** Violence is graphic***This Trump...     left-news   \n",
      "\n",
      "                date  label  \n",
      "0  February 14, 2016      0  \n",
      "1  November 9, 2016       1  \n",
      "2        Nov 9, 2017      0  \n",
      "3  December 7, 2017       1  \n",
      "4       Jan 21, 2017      0  \n"
     ]
    }
   ],
   "source": [
    "# Loading dataset\n",
    "data = pd.read_csv(\"test.tsv\", sep='\\t')\n",
    "print(data.head())"
   ]
  },
  {
   "cell_type": "code",
   "execution_count": 3,
   "metadata": {},
   "outputs": [
    {
     "data": {
      "image/png": "[encoded data removed]",
      "text/plain": [
       "<Figure size 640x480 with 1 Axes>"
      ]
     },
     "metadata": {},
     "output_type": "display_data"
    }
   ],
   "source": [
    "test_data = pd.read_csv('test.tsv', sep='\\t')\n",
    "sns.countplot(data=test_data, x='label', hue='label', palette='Set2', legend=False)\n",
    "plt.title('Distribution of Labels')\n",
    "plt.xlabel('Label (0 = Fake, 1 = Real)')\n",
    "plt.ylabel('Count')\n",
    "plt.show()"
   ]
  },
  {
   "cell_type": "code",
   "execution_count": 4,
   "metadata": {},
   "outputs": [
    {
     "name": "stdout",
     "output_type": "stream",
     "text": [
      "Unnamed: 0    0\n",
      "title         0\n",
      "text          0\n",
      "subject       0\n",
      "date          0\n",
      "label         0\n",
      "dtype: int64\n"
     ]
    }
   ],
   "source": [
    "# Checking for missing values\n",
    "print(data.isnull().sum())\n",
    "data = data.dropna()"
   ]
  },
  {
   "cell_type": "code",
   "execution_count": 5,
   "metadata": {},
   "outputs": [],
   "source": [
    "# Remove the unnecessary 'Unnamed: 0' column\n",
    "data = data.drop(columns=['Unnamed: 0'])"
   ]
  },
  {
   "cell_type": "code",
   "execution_count": 6,
   "metadata": {},
   "outputs": [],
   "source": [
    "# Removing duplicate rows\n",
    "data = data.drop_duplicates()"
   ]
  },
  {
   "cell_type": "code",
   "execution_count": 7,
   "metadata": {},
   "outputs": [
    {
     "name": "stderr",
     "output_type": "stream",
     "text": [
      "[nltk_data] Downloading package stopwords to\n",
      "[nltk_data]     C:\\Users\\zanwa\\AppData\\Roaming\\nltk_data...\n",
      "[nltk_data]   Package stopwords is already up-to-date!\n",
      "[nltk_data] Downloading package wordnet to\n",
      "[nltk_data]     C:\\Users\\zanwa\\AppData\\Roaming\\nltk_data...\n",
      "[nltk_data]   Package wordnet is already up-to-date!\n"
     ]
    }
   ],
   "source": [
    "# Initializing neccessary NLP tools\n",
    "nltk.download('stopwords')\n",
    "nltk.download('wordnet')\n",
    "nlp = spacy.load('en_core_web_sm')"
   ]
  },
  {
   "cell_type": "code",
   "execution_count": 8,
   "metadata": {},
   "outputs": [],
   "source": [
    "stop_words = set(stopwords.words('english'))\n",
    "lemmatizer = WordNetLemmatizer()"
   ]
  },
  {
   "cell_type": "code",
   "execution_count": 9,
   "metadata": {},
   "outputs": [],
   "source": [
    "def clean_text(text):\n",
    "    if not isinstance(text, str):\n",
    "        return \"\"\n",
    "    # Convert to lowercase\n",
    "    text = text.lower()\n",
    "    # Remove special characters and numbers\n",
    "    text = re.sub(r'[^a-z\\s]', '', text)\n",
    "    # Use spaCy's tokenizer\n",
    "    doc = nlp(text)\n",
    "    # Remove stopwords\n",
    "    tokens = [token.text for token in doc if token.text not in stop_words]\n",
    "    # Lemmatize tokens\n",
    "    tokens = [lemmatizer.lemmatize(word) for word in tokens]\n",
    "    return ' '.join(tokens)"
   ]
  },
  {
   "cell_type": "code",
   "execution_count": 10,
   "metadata": {},
   "outputs": [],
   "source": [
    "# applying the cleaning function to title and text columns\n",
    "data['cleaned_title'] = data['title'].apply(clean_text)"
   ]
  },
  {
   "cell_type": "code",
   "execution_count": null,
   "metadata": {},
   "outputs": [],
   "source": [
    "data['cleaned_text'] = data['text'].apply(clean_text)"
   ]
  },
  {
   "cell_type": "code",
   "execution_count": 13,
   "metadata": {},
   "outputs": [
    {
     "name": "stdout",
     "output_type": "stream",
     "text": [
      "                                               title  \\\n",
      "0  Conservatives Will HATE What Donald Trump Just...   \n",
      "1  Trump victory may create new tension between U...   \n",
      "2  WATCH: Hundreds of ILLEGAL ALIENS Storm Senate...   \n",
      "3  Democratic Senator Franken to resign: CNN, cit...   \n",
      "4  GANG OF DOMESTIC TERRORISTS Violently Attack L...   \n",
      "\n",
      "                                       cleaned_title  \\\n",
      "0  conservative hate donald trump said planned pa...   \n",
      "1  trump victory may create new tension u islam i...   \n",
      "2  watch hundred illegal alien storm senate build...   \n",
      "3  democratic senator franken resign cnn citing s...   \n",
      "4  gang domestic terrorist violently attack lone ...   \n",
      "\n",
      "                                                text  \\\n",
      "0  Donald Trump isn t exactly a stranger to makin...   \n",
      "1  Donald Trump’s U.S. election victory may creat...   \n",
      "2  A couple of quick questions come to mind when ...   \n",
      "3  U.S. Democratic Senator Al Franken will announ...   \n",
      "4  ***WARNING*** Violence is graphic***This Trump...   \n",
      "\n",
      "                                        cleaned_text  \n",
      "0  donald trump exactly stranger making large gro...  \n",
      "1  donald trump u election victory may create fre...  \n",
      "2  couple quick question come mind lawabiding ame...  \n",
      "3  u democratic senator al franken announce resig...  \n",
      "4  warning violence graphicthis trump supporter u...  \n"
     ]
    }
   ],
   "source": [
    "print(data[['title', 'cleaned_title', 'text', 'cleaned_text']].head())"
   ]
  },
  {
   "cell_type": "code",
   "execution_count": 14,
   "metadata": {},
   "outputs": [],
   "source": [
    "data['title_length'] = data['cleaned_title'].apply(lambda x: len(x.split()))"
   ]
  },
  {
   "cell_type": "code",
   "execution_count": 15,
   "metadata": {},
   "outputs": [],
   "source": [
    "data['text_length'] = data['cleaned_text'].apply(lambda x: len(x.split()))"
   ]
  },
  {
   "cell_type": "code",
   "execution_count": 16,
   "metadata": {},
   "outputs": [],
   "source": [
    "from textblob import TextBlob\n",
    "data['title_sentiment'] = data['cleaned_title'].apply(lambda x: TextBlob(x).sentiment.polarity)\n",
    "data['text_sentiment'] = data['cleaned_text'].apply(lambda x: TextBlob(x).sentiment.polarity)"
   ]
  },
  {
   "cell_type": "code",
   "execution_count": 17,
   "metadata": {},
   "outputs": [],
   "source": [
    "from sklearn.model_selection import train_test_split\n",
    "\n",
    "X = data[['cleaned_title', 'cleaned_text', 'title_length', 'text_length']]\n",
    "y = data['label']\n",
    "\n",
    "X_train, X_val, y_train, y_val = train_test_split(X, y, test_size=0.2, random_state=42)\n"
   ]
  },
  {
   "cell_type": "code",
   "execution_count": 18,
   "metadata": {},
   "outputs": [],
   "source": [
    "from sklearn.feature_extraction.text import TfidfVectorizer\n",
    "\n",
    "vectorizer = TfidfVectorizer(max_features=5000)\n",
    "X_train_tfidf = vectorizer.fit_transform(X_train['cleaned_text'])\n",
    "X_val_tfidf = vectorizer.transform(X_val['cleaned_text'])"
   ]
  },
  {
   "cell_type": "code",
   "execution_count": 19,
   "metadata": {},
   "outputs": [
    {
     "name": "stdout",
     "output_type": "stream",
     "text": [
      "              precision    recall  f1-score   support\n",
      "\n",
      "           0       0.96      0.96      0.96       850\n",
      "           1       0.95      0.96      0.96       802\n",
      "\n",
      "    accuracy                           0.96      1652\n",
      "   macro avg       0.96      0.96      0.96      1652\n",
      "weighted avg       0.96      0.96      0.96      1652\n",
      "\n"
     ]
    }
   ],
   "source": [
    "from sklearn.ensemble import RandomForestClassifier\n",
    "from sklearn.metrics import classification_report\n",
    "\n",
    "model = RandomForestClassifier(random_state=42)\n",
    "model.fit(X_train_tfidf, y_train)\n",
    "\n",
    "y_pred = model.predict(X_val_tfidf)\n",
    "print(classification_report(y_val, y_pred))"
   ]
  },
  {
   "cell_type": "code",
   "execution_count": 20,
   "metadata": {},
   "outputs": [
    {
     "name": "stdout",
     "output_type": "stream",
     "text": [
      "Evaluation Metrics:\n",
      "Accuracy: 0.96\n",
      "Precision: 0.95\n",
      "Recall: 0.96\n",
      "F1 Score: 0.96\n",
      "AUC-ROC: 0.99\n",
      "\n",
      "Classification Report:\n",
      "               precision    recall  f1-score   support\n",
      "\n",
      "           0       0.96      0.96      0.96       850\n",
      "           1       0.95      0.96      0.96       802\n",
      "\n",
      "    accuracy                           0.96      1652\n",
      "   macro avg       0.96      0.96      0.96      1652\n",
      "weighted avg       0.96      0.96      0.96      1652\n",
      "\n"
     ]
    }
   ],
   "source": [
    "from sklearn.metrics import accuracy_score, precision_score, recall_score, f1_score, roc_auc_score, classification_report\n",
    "\n",
    "y_pred = model.predict(X_val_tfidf)\n",
    "y_pred_proba = model.predict_proba(X_val_tfidf)[:, 1]\n",
    "\n",
    "accuracy = accuracy_score(y_val, y_pred)\n",
    "precision = precision_score(y_val, y_pred)\n",
    "recall = recall_score(y_val, y_pred)\n",
    "f1 = f1_score(y_val, y_pred)\n",
    "roc_auc = roc_auc_score(y_val, y_pred_proba)\n",
    "\n",
    "print(\"Evaluation Metrics:\")\n",
    "print(f\"Accuracy: {accuracy:.2f}\")\n",
    "print(f\"Precision: {precision:.2f}\")\n",
    "print(f\"Recall: {recall:.2f}\")\n",
    "print(f\"F1 Score: {f1:.2f}\")\n",
    "print(f\"AUC-ROC: {roc_auc:.2f}\")\n",
    "\n",
    "print(\"\\nClassification Report:\\n\", classification_report(y_val, y_pred))\n"
   ]
  },
  {
   "cell_type": "code",
   "execution_count": 21,
   "metadata": {},
   "outputs": [
    {
     "name": "stdout",
     "output_type": "stream",
     "text": [
      "   Unnamed: 0                                              title  \\\n",
      "0        2619  Ex-CIA head says Trump remarks on Russia inter...   \n",
      "1       16043  YOU WON’T BELIEVE HIS PUNISHMENT! HISPANIC STO...   \n",
      "2         876  Federal Reserve governor Powell's policy views...   \n",
      "3       19963  SCOUNDREL HILLARY SUPPORTER STARTS “TrumpLeaks...   \n",
      "4       10783  NANCY PELOSI ARROGANTLY DISMISSES Questions on...   \n",
      "\n",
      "                                                text          subject  \\\n",
      "0  Former CIA director John Brennan on Friday cri...     politicsNews   \n",
      "1  How did this man come to OWN this store? There...  Government News   \n",
      "2  President Donald Trump on Thursday tapped Fede...     politicsNews   \n",
      "3  Hillary Clinton ally David Brock is offering t...        left-news   \n",
      "4  Pleading ignorance is a perfect ploy for Nancy...         politics   \n",
      "\n",
      "                date  label  \n",
      "0     July 22, 2017       1  \n",
      "1       Jun 19, 2017      0  \n",
      "2  November 2, 2017       1  \n",
      "3       Sep 17, 2016      0  \n",
      "4       May 26, 2017      0  \n"
     ]
    }
   ],
   "source": [
    "# Loading training dataset\n",
    "train_data = pd.read_csv('train.tsv', sep='\\t')\n",
    "print(train_data.head())"
   ]
  },
  {
   "cell_type": "code",
   "execution_count": 43,
   "metadata": {},
   "outputs": [
    {
     "data": {
      "image/png": "[encoded data removed]",
      "text/plain": [
       "<Figure size 640x480 with 1 Axes>"
      ]
     },
     "metadata": {},
     "output_type": "display_data"
    }
   ],
   "source": [
    "# Visualising train_data for the fake and real inputs\n",
    "sns.countplot(data=train_data, x='label', hue='label', palette='Set3', legend=False)\n",
    "plt.title('Distribution of Labels')\n",
    "plt.xlabel('Label (0 = Fake, 1 = Real)')\n",
    "plt.ylabel('Count')\n",
    "plt.show()"
   ]
  },
  {
   "cell_type": "code",
   "execution_count": null,
   "metadata": {},
   "outputs": [
    {
     "name": "stdout",
     "output_type": "stream",
     "text": [
      "Unnamed: 0    0\n",
      "title         0\n",
      "text          0\n",
      "subject       0\n",
      "date          0\n",
      "label         0\n",
      "dtype: int64\n"
     ]
    }
   ],
   "source": [
    "print(train_data.isnull().sum())\n",
    "train_data = train_data.dropna()"
   ]
  },
  {
   "cell_type": "code",
   "execution_count": 24,
   "metadata": {},
   "outputs": [],
   "source": [
    "train_data = train_data.drop(columns=['Unnamed: 0'])"
   ]
  },
  {
   "cell_type": "code",
   "execution_count": 25,
   "metadata": {},
   "outputs": [],
   "source": [
    "tain_data = train_data.drop_duplicates()"
   ]
  },
  {
   "cell_type": "code",
   "execution_count": 26,
   "metadata": {},
   "outputs": [],
   "source": [
    "train_data['cleaned_title'] = train_data['title'].apply(clean_text)"
   ]
  },
  {
   "cell_type": "code",
   "execution_count": 28,
   "metadata": {},
   "outputs": [],
   "source": [
    "train_data['cleaned_text'] = train_data['text'].apply(clean_text)"
   ]
  },
  {
   "cell_type": "code",
   "execution_count": 29,
   "metadata": {},
   "outputs": [
    {
     "name": "stdout",
     "output_type": "stream",
     "text": [
      "                                               title  \\\n",
      "0  Ex-CIA head says Trump remarks on Russia inter...   \n",
      "1  YOU WON’T BELIEVE HIS PUNISHMENT! HISPANIC STO...   \n",
      "2  Federal Reserve governor Powell's policy views...   \n",
      "3  SCOUNDREL HILLARY SUPPORTER STARTS “TrumpLeaks...   \n",
      "4  NANCY PELOSI ARROGANTLY DISMISSES Questions on...   \n",
      "\n",
      "                                       cleaned_title  \\\n",
      "0  excia head say trump remark russia interferenc...   \n",
      "1  wo nt believe punishment hispanic store owner ...   \n",
      "2   federal reserve governor powell policy view word   \n",
      "3  scoundrel hillary supporter start trumpleaks c...   \n",
      "4  nancy pelosi arrogantly dismisses question cro...   \n",
      "\n",
      "                                                text  \\\n",
      "0  Former CIA director John Brennan on Friday cri...   \n",
      "1  How did this man come to OWN this store? There...   \n",
      "2  President Donald Trump on Thursday tapped Fede...   \n",
      "3  Hillary Clinton ally David Brock is offering t...   \n",
      "4  Pleading ignorance is a perfect ploy for Nancy...   \n",
      "\n",
      "                                        cleaned_text  \n",
      "0  former cia director john brennan friday critic...  \n",
      "1  man come store information much fraudster exce...  \n",
      "2  president donald trump thursday tapped federal...  \n",
      "3  hillary clinton ally david brock offering pay ...  \n",
      "4  pleading ignorance perfect ploy nancy pelosi b...  \n"
     ]
    }
   ],
   "source": [
    "print(train_data[['title', 'cleaned_title', 'text', 'cleaned_text']].head())"
   ]
  },
  {
   "cell_type": "code",
   "execution_count": 30,
   "metadata": {},
   "outputs": [],
   "source": [
    "train_data['title_length'] = train_data['cleaned_title'].apply(lambda x: len(x.split()))"
   ]
  },
  {
   "cell_type": "code",
   "execution_count": 31,
   "metadata": {},
   "outputs": [],
   "source": [
    "train_data['text_length'] = train_data['cleaned_text'].apply(lambda x: len(x.split()))"
   ]
  },
  {
   "cell_type": "code",
   "execution_count": 32,
   "metadata": {},
   "outputs": [],
   "source": [
    "from textblob import TextBlob\n",
    "train_data['title_sentiment'] = train_data['cleaned_title'].apply(lambda x: TextBlob(x).sentiment.polarity)\n",
    "train_data['text_sentiment'] = train_data['cleaned_text'].apply(lambda x: TextBlob(x).sentiment.polarity)"
   ]
  },
  {
   "cell_type": "code",
   "execution_count": 33,
   "metadata": {},
   "outputs": [],
   "source": [
    "from sklearn.model_selection import train_test_split\n",
    "\n",
    "X = train_data[['cleaned_title', 'cleaned_text', 'title_length', 'text_length']]\n",
    "y = train_data['label']\n",
    "\n",
    "X_train, X_val, y_train, y_val = train_test_split(X, y, test_size=0.2, random_state=42)\n"
   ]
  },
  {
   "cell_type": "code",
   "execution_count": 34,
   "metadata": {},
   "outputs": [],
   "source": [
    "from sklearn.feature_extraction.text import TfidfVectorizer\n",
    "\n",
    "vectorizer = TfidfVectorizer(max_features=5000)\n",
    "X_train_tfidf = vectorizer.fit_transform(X_train['cleaned_text'])\n",
    "X_val_tfidf = vectorizer.transform(X_val['cleaned_text'])"
   ]
  },
  {
   "cell_type": "code",
   "execution_count": 36,
   "metadata": {},
   "outputs": [
    {
     "name": "stdout",
     "output_type": "stream",
     "text": [
      "              precision    recall  f1-score   support\n",
      "\n",
      "           0       0.98      0.98      0.98      3137\n",
      "           1       0.97      0.98      0.98      2863\n",
      "\n",
      "    accuracy                           0.98      6000\n",
      "   macro avg       0.98      0.98      0.98      6000\n",
      "weighted avg       0.98      0.98      0.98      6000\n",
      "\n"
     ]
    }
   ],
   "source": [
    "from sklearn.ensemble import RandomForestClassifier\n",
    "from sklearn.metrics import classification_report\n",
    "\n",
    "train_model = RandomForestClassifier(random_state=42)\n",
    "train_model.fit(X_train_tfidf, y_train)\n",
    "\n",
    "y_pred = train_model.predict(X_val_tfidf)\n",
    "print(classification_report(y_val, y_pred))"
   ]
  },
  {
   "cell_type": "code",
   "execution_count": 37,
   "metadata": {},
   "outputs": [
    {
     "name": "stdout",
     "output_type": "stream",
     "text": [
      "Evaluation Metrics:\n",
      "Accuracy: 0.98\n",
      "Precision: 0.97\n",
      "Recall: 0.98\n",
      "F1 Score: 0.98\n",
      "AUC-ROC: 1.00\n",
      "\n",
      "Classification Report:\n",
      "               precision    recall  f1-score   support\n",
      "\n",
      "           0       0.98      0.98      0.98      3137\n",
      "           1       0.97      0.98      0.98      2863\n",
      "\n",
      "    accuracy                           0.98      6000\n",
      "   macro avg       0.98      0.98      0.98      6000\n",
      "weighted avg       0.98      0.98      0.98      6000\n",
      "\n"
     ]
    }
   ],
   "source": [
    "from sklearn.metrics import accuracy_score, precision_score, recall_score, f1_score, roc_auc_score, classification_report\n",
    "\n",
    "y_pred = train_model.predict(X_val_tfidf)\n",
    "y_pred_proba = train_model.predict_proba(X_val_tfidf)[:, 1]\n",
    "\n",
    "accuracy = accuracy_score(y_val, y_pred)\n",
    "precision = precision_score(y_val, y_pred)\n",
    "recall = recall_score(y_val, y_pred)\n",
    "f1 = f1_score(y_val, y_pred)\n",
    "roc_auc = roc_auc_score(y_val, y_pred_proba)\n",
    "\n",
    "print(\"Evaluation Metrics:\")\n",
    "print(f\"Accuracy: {accuracy:.2f}\")\n",
    "print(f\"Precision: {precision:.2f}\")\n",
    "print(f\"Recall: {recall:.2f}\")\n",
    "print(f\"F1 Score: {f1:.2f}\")\n",
    "print(f\"AUC-ROC: {roc_auc:.2f}\")\n",
    "\n",
    "print(\"\\nClassification Report:\\n\", classification_report(y_val, y_pred))"
   ]
  },
  {
   "cell_type": "code",
   "execution_count": 38,
   "metadata": {},
   "outputs": [
    {
     "name": "stdout",
     "output_type": "stream",
     "text": [
      "                                               title  \\\n",
      "0  Ex-CIA head says Trump remarks on Russia inter...   \n",
      "1  YOU WON’T BELIEVE HIS PUNISHMENT! HISPANIC STO...   \n",
      "2  Federal Reserve governor Powell's policy views...   \n",
      "3  SCOUNDREL HILLARY SUPPORTER STARTS “TrumpLeaks...   \n",
      "4  NANCY PELOSI ARROGANTLY DISMISSES Questions on...   \n",
      "\n",
      "                                                text          subject  \\\n",
      "0  Former CIA director John Brennan on Friday cri...     politicsNews   \n",
      "1  How did this man come to OWN this store? There...  Government News   \n",
      "2  President Donald Trump on Thursday tapped Fede...     politicsNews   \n",
      "3  Hillary Clinton ally David Brock is offering t...        left-news   \n",
      "4  Pleading ignorance is a perfect ploy for Nancy...         politics   \n",
      "\n",
      "                date  label  \\\n",
      "0     July 22, 2017       1   \n",
      "1       Jun 19, 2017      0   \n",
      "2  November 2, 2017       1   \n",
      "3       Sep 17, 2016      0   \n",
      "4       May 26, 2017      0   \n",
      "\n",
      "                                       cleaned_title  \\\n",
      "0  excia head say trump remark russia interferenc...   \n",
      "1  wo nt believe punishment hispanic store owner ...   \n",
      "2   federal reserve governor powell policy view word   \n",
      "3  scoundrel hillary supporter start trumpleaks c...   \n",
      "4  nancy pelosi arrogantly dismisses question cro...   \n",
      "\n",
      "                                        cleaned_text  title_length  \\\n",
      "0  former cia director john brennan friday critic...             8   \n",
      "1  man come store information much fraudster exce...            14   \n",
      "2  president donald trump thursday tapped federal...             7   \n",
      "3  hillary clinton ally david brock offering pay ...             7   \n",
      "4  pleading ignorance perfect ploy nancy pelosi b...            10   \n",
      "\n",
      "   text_length  title_sentiment  text_sentiment  \n",
      "0          246              0.0       -0.050770  \n",
      "1          247              0.5        0.086019  \n",
      "2          377              0.0        0.042708  \n",
      "3          106              0.0        0.215909  \n",
      "4           98              0.0        0.130000  \n"
     ]
    }
   ],
   "source": [
    "print(train_data.head())"
   ]
  },
  {
   "cell_type": "code",
   "execution_count": 39,
   "metadata": {},
   "outputs": [
    {
     "name": "stdout",
     "output_type": "stream",
     "text": [
      "Model and vectorizer saved!\n"
     ]
    }
   ],
   "source": [
    "import joblib\n",
    "\n",
    "joblib.dump(train_model, 'news_classification_model.pkl')\n",
    "joblib.dump(vectorizer, 'tfidf_vectorizer.pkl')\n",
    "print(\"Model and vectorizer saved!\")"
   ]
  }
 ],
 "metadata": {
  "kernelspec": {
   "display_name": "Python 3",
   "language": "python",
   "name": "python3"
  },
  "language_info": {
   "codemirror_mode": {
    "name": "ipython",
    "version": 3
   },
   "file_extension": ".py",
   "mimetype": "text/x-python",
   "name": "python",
   "nbconvert_exporter": "python",
   "pygments_lexer": "ipython3",
   "version": "3.12.7"
  }
 },
 "nbformat": 4,
 "nbformat_minor": 2
}
